{
 "cells": [
  {
   "cell_type": "code",
   "execution_count": 4,
   "metadata": {},
   "outputs": [
    {
     "name": "stdout",
     "output_type": "stream",
     "text": [
      "Collecting psycopg2\n",
      "  Using cached psycopg2-2.9.9-cp312-cp312-macosx_14_0_x86_64.whl\n",
      "Installing collected packages: psycopg2\n",
      "Successfully installed psycopg2-2.9.9\n",
      "Note: you may need to restart the kernel to use updated packages.\n"
     ]
    }
   ],
   "source": [
    "import pandas as pd\n",
    "import matplotlib.pyplot as plt\n",
    "import psycopg2"
   ]
  },
  {
   "cell_type": "code",
   "execution_count": 2,
   "metadata": {},
   "outputs": [],
   "source": [
    "connection_params = {\"user\":\"shleiferj\", \n",
    "                     \"password\":\"\", \n",
    "                     \"dbname\":\"hmda\", \n",
    "                     \"host\":\"localhost\"}\n",
    "\n",
    "def connect(params):\n",
    "    \"\"\"\n",
    "    This function accepts a dictionary of connection parameters that must include:\n",
    "    - user: the username to be used for the database session\n",
    "    - password: the user's password\n",
    "    - dbname: the name of the database for connection\n",
    "    - host: the host location of the database\n",
    "    \"\"\"\n",
    "    #attempt a connection with the supplied parameters\n",
    "    try:\n",
    "        conn = psycopg2.connect(**params)\n",
    "        print(\"I'm connected\") #print a success message\n",
    "        return conn.cursor() #return a cursor object\n",
    "    except psycopg2.Error as e: \n",
    "        print(\"I am unable to connect to the database: \", e) #print a fail message and the error, if any"
   ]
  },
  {
   "cell_type": "code",
   "execution_count": null,
   "metadata": {},
   "outputs": [],
   "source": [
    "\n",
    "# Connect to your database\n",
    "cur = connect(connection_params) #Connects to the database using parameters established above. \n",
    "\n",
    "query = \"\"\"\n",
    "SELECT lei, COUNT(*) AS count\n",
    "FROM hmda_public.lar_2022  AS t\n",
    "GROUP BY lei\n",
    "ORDER BY count DESC\n",
    "LIMIT 10;\n",
    "\"\"\"\n",
    "\n",
    "cur.execute(query) #Uses the SQL statement above to pull year and count of filers for 2017. \n",
    "\n",
    "results = cur.fetchall() #Saves the query results.\n",
    "\n",
    "cur.close()\n",
    "\n",
    "df = pd.DataFrame(results)"
   ]
  },
  {
   "cell_type": "code",
   "execution_count": null,
   "metadata": {},
   "outputs": [],
   "source": [
    "\n",
    "# Connect to your database\n",
    "cur = connect(connection_params) #Connects to the database using parameters established above. \n",
    "\n",
    "query = \"\"\"\n",
    "SELECT lei, respondent_name\n",
    "FROM hmda_public.panel_2022\n",
    "\"\"\"\n",
    "\n",
    "cur.execute(query) \n",
    "\n",
    "results = cur.fetchall()\n",
    "\n",
    "cur.close()\n",
    "\n",
    "names = pd.DataFrame(results)\n"
   ]
  },
  {
   "cell_type": "code",
   "execution_count": null,
   "metadata": {},
   "outputs": [],
   "source": [
    "\"\"\"\n",
    "names = pd.DataFrame(results)\n",
    "names.index = names[0]\n",
    "\n",
    "leiToNames = {}\n",
    "\n",
    "for i in \"\"\""
   ]
  },
  {
   "cell_type": "code",
   "execution_count": null,
   "metadata": {},
   "outputs": [],
   "source": [
    "'''\n",
    "for i in df:\n",
    "    try:\n",
    "        df[0][i] = leiToNames[df[0][i]]\n",
    "    except:\n",
    "        continue'''"
   ]
  },
  {
   "cell_type": "code",
   "execution_count": null,
   "metadata": {},
   "outputs": [],
   "source": [
    "\n",
    "\n",
    "# Create a bar graph\n",
    "plt.figure(figsize=(10, 6))\n",
    "plt.bar(df[0], df[1], color='skyblue')\n",
    "plt.title('10 Most Popular Morgage Banks')\n",
    "plt.xlabel('Bank LEI')\n",
    "plt.ylabel('Count')\n",
    "plt.xticks(rotation=45)\n",
    "plt.tight_layout()\n",
    "plt.show()"
   ]
  },
  {
   "cell_type": "code",
   "execution_count": null,
   "metadata": {},
   "outputs": [],
   "source": [
    "\n",
    "# Connect to your database\n",
    "cur = connect(connection_params) #Connects to the database using parameters established above. \n",
    "\n",
    "query = \"\"\"\n",
    "SELECT state_code, COUNT(*) AS count\n",
    "FROM hmda_public.lar_2022  AS t\n",
    "GROUP BY state_code\n",
    "ORDER BY count DESC\n",
    "LIMIT 10;\n",
    "\"\"\"\n",
    "\n",
    "cur.execute(query) #Uses the SQL statement above to pull year and count of filers for 2017. \n",
    "\n",
    "results = cur.fetchall() #Saves the query results.\n",
    "\n",
    "cur.close()\n",
    "\n",
    "df = pd.DataFrame(results)"
   ]
  },
  {
   "cell_type": "code",
   "execution_count": null,
   "metadata": {},
   "outputs": [],
   "source": [
    "\n",
    "plt.figure(figsize=(10, 6))\n",
    "plt.bar(df[0], df[1], color='skyblue')\n",
    "plt.title('10 States with Most Applications')\n",
    "plt.xlabel('State')\n",
    "plt.ylabel('Count')\n",
    "plt.tight_layout()\n",
    "plt.show()"
   ]
  },
  {
   "cell_type": "code",
   "execution_count": null,
   "metadata": {},
   "outputs": [],
   "source": [
    "# Connect to your database\n",
    "cur = connect(connection_params) #Connects to the database using parameters established above. \n",
    "\n",
    "query = \"\"\"\n",
    "SELECT derived_race, COUNT(*) AS count\n",
    "FROM hmda_public.lar_2022  AS t\n",
    "GROUP BY derived_race\n",
    "\"\"\"\n",
    "\n",
    "cur.execute(query) #Uses the SQL statement above to pull year and count of filers for 2017. \n",
    "\n",
    "results = cur.fetchall() #Saves the query results.\n",
    "\n",
    "cur.close()\n",
    "\n",
    "df = pd.DataFrame(results)"
   ]
  },
  {
   "cell_type": "code",
   "execution_count": null,
   "metadata": {},
   "outputs": [],
   "source": [
    "plt.figure(figsize=(10, 6))\n",
    "plt.bar(df[0], df[1], color='skyblue')\n",
    "plt.title('Number of Applications by Race in 2022')\n",
    "plt.xlabel('Race')\n",
    "plt.ylabel('Count')\n",
    "plt.xticks(rotation=45)\n",
    "plt.tight_layout()\n",
    "plt.show()"
   ]
  },
  {
   "cell_type": "code",
   "execution_count": null,
   "metadata": {},
   "outputs": [],
   "source": [
    "# Connect to your database\n",
    "cur = connect(connection_params) #Connects to the database using parameters established above. \n",
    "\n",
    "query = \"\"\"\n",
    "SELECT derived_sex, COUNT(*) AS count\n",
    "FROM hmda_public.lar_2022  AS t\n",
    "GROUP BY derived_sex\n",
    "\"\"\"\n",
    "\n",
    "cur.execute(query) #Uses the SQL statement above to pull year and count of filers for 2017. \n",
    "\n",
    "results = cur.fetchall() #Saves the query results.\n",
    "\n",
    "cur.close()\n",
    "\n",
    "df = pd.DataFrame(results)"
   ]
  },
  {
   "cell_type": "code",
   "execution_count": null,
   "metadata": {},
   "outputs": [],
   "source": [
    "plt.figure(figsize=(10, 6))\n",
    "plt.bar(df[0], df[1], color='skyblue')\n",
    "plt.title('Number of Applications by Sex in 2022')\n",
    "plt.xlabel('Sex')\n",
    "plt.ylabel('Count')\n",
    "plt.tight_layout()\n",
    "plt.show()"
   ]
  },
  {
   "cell_type": "code",
   "execution_count": null,
   "metadata": {},
   "outputs": [],
   "source": [
    "# Connect to your database\n",
    "cur = connect(connection_params) #Connects to the database using parameters established above. \n",
    "\n",
    "query = \"\"\"\n",
    "SELECT loan_amount\n",
    "FROM hmda_public.lar_2022  AS t\n",
    "\"\"\"\n",
    "\n",
    "cur.execute(query) #Uses the SQL statement above to pull year and count of filers for 2017. \n",
    "\n",
    "results = cur.fetchall() #Saves the query results.\n",
    "\n",
    "cur.close()\n",
    "\n",
    "df = pd.DataFrame(results)"
   ]
  },
  {
   "cell_type": "code",
   "execution_count": null,
   "metadata": {},
   "outputs": [],
   "source": [
    "#df[1] = pd.to_numeric(df[0])\n",
    "\n",
    "plt.figure(figsize=(10, 6))\n",
    "plt.hist(df[0], bins=20, color='purple')\n",
    "plt.title('Loan Amount Histogram')\n",
    "plt.xlabel('Amount')\n",
    "plt.ylabel('Count (Log Scale)')\n",
    "plt.yscale('log')\n",
    "plt.xticks(rotation=45)\n",
    "plt.show()"
   ]
  }
 ],
 "metadata": {
  "kernelspec": {
   "display_name": ".venv",
   "language": "python",
   "name": "python3"
  },
  "language_info": {
   "codemirror_mode": {
    "name": "ipython",
    "version": 3
   },
   "file_extension": ".py",
   "mimetype": "text/x-python",
   "name": "python",
   "nbconvert_exporter": "python",
   "pygments_lexer": "ipython3",
   "version": "3.12.6"
  }
 },
 "nbformat": 4,
 "nbformat_minor": 2
}
