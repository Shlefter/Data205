{
 "cells": [
  {
   "cell_type": "code",
   "execution_count": 30,
   "metadata": {},
   "outputs": [],
   "source": [
    "import pandas as pd\n",
    "import matplotlib.pyplot as plt\n",
    "import psycopg2\n",
    "import numpy as np"
   ]
  },
  {
   "cell_type": "code",
   "execution_count": 31,
   "metadata": {},
   "outputs": [],
   "source": [
    "connection_params = {\"user\":\"shleiferj\", \n",
    "                     \"password\":\"\", \n",
    "                     \"dbname\":\"hmda\", \n",
    "                     \"host\":\"localhost\"}\n",
    "\n",
    "def connect(params=connection_params):\n",
    "    \"\"\"\n",
    "    This function accepts a dictionary of connection parameters that must include:\n",
    "    - user: the username to be used for the database session\n",
    "    - password: the user's password\n",
    "    - dbname: the name of the database for connection\n",
    "    - host: the host location of the database\n",
    "    \"\"\"\n",
    "    #attempt a connection with the supplied parameters\n",
    "    try:\n",
    "        conn = psycopg2.connect(**params)\n",
    "        print(\"I'm connected\") #print a success message\n",
    "        return conn.cursor() #return a cursor object\n",
    "    except psycopg2.Error as e: \n",
    "        print(\"I am unable to connect to the database: \", e) #print a fail message and the error, if any"
   ]
  },
  {
   "cell_type": "code",
   "execution_count": 32,
   "metadata": {},
   "outputs": [],
   "source": [
    "def valueCounty(year):\n",
    "    cur = connect()\n",
    "\n",
    "    query = f\"\"\"\n",
    "    SELECT property_value, county_code, derived_race\n",
    "    FROM hmda_public.lar_{year}\n",
    "    where action_taken='1' and not property_value='Exempt' and not property_value='NA' and total_units = '1';\n",
    "    \"\"\"\n",
    "\n",
    "    cur.execute(query)\n",
    "\n",
    "    results = cur.fetchall()\n",
    "\n",
    "    cur.close()\n",
    "\n",
    "    df = pd.DataFrame(results)\n",
    "    df.columns = ['value', 'county', 'race']\n",
    "\n",
    "    return df"
   ]
  },
  {
   "cell_type": "code",
   "execution_count": 33,
   "metadata": {},
   "outputs": [
    {
     "name": "stdout",
     "output_type": "stream",
     "text": [
      "I'm connected\n",
      "I'm connected\n",
      "I'm connected\n",
      "I'm connected\n",
      "I'm connected\n",
      "I'm connected\n"
     ]
    }
   ],
   "source": [
    "df18 = valueCounty(2018)\n",
    "df19 = valueCounty(2019)\n",
    "df20 = valueCounty(2020)\n",
    "df21 = valueCounty(2021)\n",
    "df22 = valueCounty(2022)\n",
    "df23 = valueCounty(2023)"
   ]
  },
  {
   "cell_type": "code",
   "execution_count": 34,
   "metadata": {},
   "outputs": [],
   "source": [
    "# Mean and median by year\n",
    "def med(list):\n",
    "    return np.median([int(i) for i in list if i!='NA'])\n",
    "def mean(list):\n",
    "    return np.mean([int(i) for i in list if i!='NA'])\n",
    "\n",
    "medians = [med(df18['value'].tolist()),med(df19['value'].tolist()),med(df20['value'].tolist()),\n",
    "           med(df21['value'].tolist()),med(df22['value'].tolist()),med(df23['value'].tolist())]\n",
    "means = [mean(df18['value'].tolist()),mean(df19['value'].tolist()),mean(df20['value'].tolist()),\n",
    "        mean(df21['value'].tolist()),mean(df22['value'].tolist()),mean(df23['value'].tolist())]\n",
    "yearMean = pd.DataFrame({'mean':means, 'median':medians})\n",
    "yearMean.index = ['2018','2019','2020','2021','2022','2023']"
   ]
  },
  {
   "cell_type": "code",
   "execution_count": 41,
   "metadata": {},
   "outputs": [],
   "source": [
    "import functools as ft\n",
    "from collections import Counter\n",
    "\n",
    "def num(df, column = 'value'):\n",
    "    df[column] = pd.to_numeric(df.copy()[column], errors='coerce')\n",
    "    return df\n",
    "\n",
    "def count(series):\n",
    "    return dict(Counter(series))\n",
    "\n",
    "def size(series):\n",
    "    return len(series)\n",
    "\n",
    "def normalCount(series):\n",
    "    count = dict(Counter(series))\n",
    "    total = sum(count.values())\n",
    "    for i in count.keys():\n",
    "        count[i] = count[i]/total\n",
    "    return count\n",
    "\n",
    "df18c = num(df18).groupby('county').agg(\n",
    "    mean2018 = ('value', 'mean'),\n",
    "    median2018 = ('value', 'median'),\n",
    "    race2018 = ('race', count),\n",
    "    raceNormal2018 = ('race', normalCount),\n",
    "    count2018 = ('value', size)\n",
    ")\n",
    "df19c = num(df19).groupby('county').agg(\n",
    "    mean2019 = ('value', 'mean'),\n",
    "    median2019 = ('value', 'median'),\n",
    "    race2019 = ('race', count),\n",
    "    raceNormal2019 = ('race', normalCount),\n",
    "    count2019 = ('value', 'size')\n",
    ")\n",
    "df20c = num(df20).groupby('county').agg(\n",
    "    mean2020 = ('value', 'mean'),\n",
    "    median2020 = ('value', 'median'),\n",
    "    race2020 = ('race', count),\n",
    "    raceNormal2020 = ('race', normalCount),\n",
    "    count2020 = ('value', 'size')\n",
    ")\n",
    "df21c = num(df21).groupby('county').agg(\n",
    "    mean2021 = ('value', 'mean'),\n",
    "    median2021 = ('value', 'median'),\n",
    "    race2021 = ('race', count),\n",
    "    raceNormal2021 = ('race', normalCount),\n",
    "    count2021 = ('value', 'size')\n",
    ")\n",
    "df22c = num(df22).groupby('county').agg(\n",
    "    mean2022 = ('value', 'mean'),\n",
    "    median2022 = ('value', 'median'),\n",
    "    race2022 = ('race', count),\n",
    "    raceNormal2022 = ('race', normalCount),\n",
    "    count2022 = ('value', 'size')\n",
    ")\n",
    "df23c = num(df23).groupby('county').agg(\n",
    "    mean2023 = ('value', 'mean'),\n",
    "    median2023 = ('value', 'median'),\n",
    "    race2023 = ('race', count),\n",
    "    raceNormal2023 = ('race', normalCount),\n",
    "    count2023 = ('value', 'size')\n",
    ")\n",
    "meansMeds = ft.reduce(lambda left, right: pd.merge(left, right, on='county'), [df18c, df19c, df20c, df21c, df22c, df23c])\n",
    "\n",
    "# Omits countys where not all years have values\n",
    "# Should just be Us/peurto rico\n",
    "\n",
    "del df18c, df19c, df20c, df21c, df22c, df23c"
   ]
  },
  {
   "cell_type": "code",
   "execution_count": null,
   "metadata": {},
   "outputs": [],
   "source": [
    "for year in range(2019, 2024):\n",
    "    meansMeds[f'medIncrease{year}'] = meansMeds[f'median{year}']/meansMeds[f'median{year-1}']\n",
    "\n",
    "meansMeds[f'medIncrease18-23'] = meansMeds[f'median2023']/meansMeds[f'median2019']"
   ]
  },
  {
   "cell_type": "code",
   "execution_count": 48,
   "metadata": {},
   "outputs": [],
   "source": [
    "meansMeds.to_csv('meanMeds.csv')"
   ]
  },
  {
   "cell_type": "code",
   "execution_count": 42,
   "metadata": {},
   "outputs": [],
   "source": [
    "temp = meansMeds.copy()\n",
    "for i in range(2018, 2024):\n",
    "    temp = temp[temp[f'count{i}'] >= 25]"
   ]
  },
  {
   "cell_type": "code",
   "execution_count": null,
   "metadata": {},
   "outputs": [],
   "source": [
    "temp.to_csv('meanMedsFiltered.csv')"
   ]
  }
 ],
 "metadata": {
  "kernelspec": {
   "display_name": ".venv",
   "language": "python",
   "name": "python3"
  },
  "language_info": {
   "codemirror_mode": {
    "name": "ipython",
    "version": 3
   },
   "file_extension": ".py",
   "mimetype": "text/x-python",
   "name": "python",
   "nbconvert_exporter": "python",
   "pygments_lexer": "ipython3",
   "version": "3.12.6"
  }
 },
 "nbformat": 4,
 "nbformat_minor": 2
}
