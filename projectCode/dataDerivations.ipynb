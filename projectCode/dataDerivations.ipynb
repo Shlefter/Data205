{
 "cells": [
  {
   "cell_type": "code",
   "execution_count": null,
   "metadata": {
    "vscode": {
     "languageId": "plaintext"
    }
   },
   "outputs": [],
   "source": [
    "import pandas as pd\n",
    "import matplotlib.pyplot as plt\n",
    "import psycopg2\n",
    "import numpy as np"
   ]
  },
  {
   "cell_type": "code",
   "execution_count": null,
   "metadata": {
    "vscode": {
     "languageId": "plaintext"
    }
   },
   "outputs": [],
   "source": [
    "connection_params = {\"user\":\"shleiferj\", \n",
    "                     \"password\":\"\", \n",
    "                     \"dbname\":\"hmda\", \n",
    "                     \"host\":\"localhost\"}\n",
    "\n",
    "def connect(params=connection_params):\n",
    "    \"\"\"\n",
    "    This function accepts a dictionary of connection parameters that must include:\n",
    "    - user: the username to be used for the database session\n",
    "    - password: the user's password\n",
    "    - dbname: the name of the database for connection\n",
    "    - host: the host location of the database\n",
    "    \"\"\"\n",
    "    #attempt a connection with the supplied parameters\n",
    "    try:\n",
    "        conn = psycopg2.connect(**params)\n",
    "        print(\"I'm connected\") #print a success message\n",
    "        return conn.cursor() #return a cursor object\n",
    "    except psycopg2.Error as e: \n",
    "        print(\"I am unable to connect to the database: \", e) #print a fail message and the error, if any"
   ]
  },
  {
   "cell_type": "code",
   "execution_count": null,
   "metadata": {
    "vscode": {
     "languageId": "plaintext"
    }
   },
   "outputs": [],
   "source": [
    "def valueCounty(year):\n",
    "    cur = connect()\n",
    "\n",
    "    query = f\"\"\"\n",
    "    SELECT property_value, county_code\n",
    "    FROM hmda_public.lar_{year}\n",
    "    where action_taken='1' and not property_value='Exempt' and not property_value='NA';\n",
    "    \"\"\"\n",
    "\n",
    "    cur.execute(query)\n",
    "\n",
    "    results = cur.fetchall()\n",
    "\n",
    "    cur.close()\n",
    "\n",
    "    df = pd.DataFrame(results)\n",
    "    df.columns = ['value', 'county']\n",
    "\n",
    "    return df"
   ]
  },
  {
   "cell_type": "code",
   "execution_count": null,
   "metadata": {
    "vscode": {
     "languageId": "plaintext"
    }
   },
   "outputs": [],
   "source": [
    "df18 = valueCounty(2018)\n",
    "df19 = valueCounty(2019)\n",
    "df20 = valueCounty(2020)\n",
    "df21 = valueCounty(2021)\n",
    "df22 = valueCounty(2022)\n",
    "df22 = valueCounty(2023)"
   ]
  },
  {
   "cell_type": "code",
   "execution_count": null,
   "metadata": {
    "vscode": {
     "languageId": "plaintext"
    }
   },
   "outputs": [],
   "source": [
    "# Mean and median by year\n",
    "def med(list):\n",
    "    return np.median([int(i) for i in list if i!='NA'])\n",
    "def mean(list):\n",
    "    print('mean')\n",
    "    return np.mean([int(i) for i in list if i!='NA'])\n",
    "\n",
    "medians = [med(df18['value'].tolist()),med(df19['value'].tolist()),med(df20['value'].tolist()),\n",
    "           med(df21['value'].tolist()),med(df22['value'].tolist())]\n",
    "means = [mean(df18['value'].tolist()),mean(df19['value'].tolist()),mean(df20['value'].tolist()),\n",
    "        mean(df21['value'].tolist()),mean(df22['value'].tolist())]\n",
    "yearMean = pd.DataFrame({'mean':means, 'median':medians})\n",
    "yearMean.index = ['2018','2019','2020','2021','2022']"
   ]
  }
 ],
 "metadata": {
  "language_info": {
   "name": "python"
  }
 },
 "nbformat": 4,
 "nbformat_minor": 2
}
