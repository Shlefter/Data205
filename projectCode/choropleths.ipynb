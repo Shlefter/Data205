{
 "cells": [
  {
   "cell_type": "code",
   "execution_count": 44,
   "metadata": {},
   "outputs": [],
   "source": [
    "import pandas as pd\n",
    "import numpy as np\n",
    "from scipy import stats\n",
    "import ast"
   ]
  },
  {
   "cell_type": "markdown",
   "metadata": {},
   "source": [
    "# Data Loading\n",
    "## cz-connect: demographics/income"
   ]
  },
  {
   "cell_type": "code",
   "execution_count": null,
   "metadata": {},
   "outputs": [],
   "source": [
    "# Make the geoID 5 charachters becaues the preceding 0s have been removed\n",
    "def char5(num):\n",
    "    # One of the values in meanMeds in NA which would throw an error\n",
    "    try:\n",
    "        num = int(num)\n",
    "        return f'{num:05d}'\n",
    "    except:\n",
    "        return '00000'\n",
    "\n",
    "czconnect = pd.read_csv(r'..\\loadData\\data\\external\\Citizen_Connect_-_County_data__live__20241210.csv')\n",
    "# Filter for only commuting and demographic data\n",
    "commuters = czconnect[czconnect['Category'] == 'Commuting']\n",
    "demographics = czconnect[czconnect['Category'] == 'Demographics']\n",
    "demographics['GEOID'] = demographics['GEOID'].apply(char5)\n",
    "del czconnect\n",
    "\n",
    "resPermits = pd.read_csv(r'..\\loadData\\data\\external\\Residential_Construction_Permits_by_County_5026727375813176131.csv')\n",
    "\n",
    "# years are separated by columns, so filter for only applicable years\n",
    "dataRange = ['GEOID']\n",
    "for year in range(2018, 2023):\n",
    "    dataRange.append(f'ALL_PERMITS_{year}')\n",
    "    dataRange.append(f'SINGLE_FAMILY_PERMITS_{year}')\n",
    "    dataRange.append(f'ALL_MULTIFAMILY_PERMITS_{year}')\n",
    "    dataRange.append(f'MULTIFAMILY_PERMITS_2_UNITS_{year}')\n",
    "    dataRange.append(f'MULTIFAMILY_PERMITS_3_4_UNITS_{year}')\n",
    "    dataRange.append(f'MULTIFAMILY_PERMITS_5_OR_MORE_UNITS_{year}')\n",
    "# These two are labeled slightly differently, no idea why\n",
    "dataRange[-2], dataRange[-1] = ['MULTIFAMILY_PERMITS_3_4_UNIT_2022', 'MULTIFAMILY_PERMITS_5_OR_MORE_2022']\n",
    "resPermits = resPermits[dataRange]\n",
    "\n",
    "resPermits.index = resPermits['GEOID'].apply(char5)"
   ]
  },
  {
   "cell_type": "code",
   "execution_count": 46,
   "metadata": {},
   "outputs": [],
   "source": [
    "demographics = demographics[(demographics['Year'] == 2018) | (demographics['Year'] == 2019)]\n",
    "demo = demographics.pivot_table(index='GEOID', columns=['Year', 'Variable'], values=['Value', 'Denominator'])\n",
    "\n",
    "# pivot and get median household income from dataset\n",
    "income = demographics.pivot_table(index='GEOID', columns=['Year', 'Variable'], values='Value')[[(2018, 'Median Household Income'), \n",
    "(2019, 'Median Household Income')]]"
   ]
  },
  {
   "cell_type": "code",
   "execution_count": 47,
   "metadata": {},
   "outputs": [],
   "source": [
    "commuters = commuters[(commuters['Year'] == 2018) | (commuters['Year'] == 2019)]\n",
    "df = commuters.pivot_table(index='GEOID', columns=['Year', 'Variable'], values='Value')\n",
    "\n",
    "def chi2com(year):\n",
    "    pvalues = []\n",
    "    for i, row in df.iterrows():\n",
    "\n",
    "        table = [[row[(2018, 'Commute by car/ truck/van')],\n",
    "                row[(2018, 'Commute by public transportation')],\n",
    "                row[(2018, 'Work at home')]], \n",
    "                [row[(2019, 'Commute by car/ truck/van')],\n",
    "                row[(2019, 'Commute by public transportation')],\n",
    "                row[(2019, 'Work at home')]]]\n",
    "\n",
    "        try:\n",
    "            stat, p, dof, expected = stats.chi2_contingency(table)\n",
    "            pvalues.append(p)\n",
    "        except ValueError:\n",
    "            pvalues.append(1.0)\n",
    "            continue\n",
    "    \n",
    "    return pvalues\n",
    "\n",
    "df['workerchange'] = chi2com(2019)\n",
    "\n",
    "# quantify commuter change"
   ]
  },
  {
   "cell_type": "markdown",
   "metadata": {},
   "source": [
    "## Meanmeds statistical analyses"
   ]
  },
  {
   "cell_type": "code",
   "execution_count": 48,
   "metadata": {},
   "outputs": [],
   "source": [
    "meanMeds = pd.read_csv('meanMedsFiltered.csv')\n",
    "meanMeds.index = meanMeds['county'].apply(char5)\n",
    "\n",
    "# Z-test for statiscical significance of median increase\n",
    "for year in range(2019, 2024):\n",
    "    meanMeds[f'z-MedIncrease{year}'] = stats.zscore(meanMeds[f'medIncrease{year}'])\n",
    "\n",
    "    # Find p-value from z-score, multiplied by 2 for 2 tailed test\n",
    "    meanMeds[f'p-MedIncrease{year}'] = stats.norm.sf(meanMeds[f'z-MedIncrease{year}'])\n",
    "\n"
   ]
  },
  {
   "cell_type": "code",
   "execution_count": 49,
   "metadata": {},
   "outputs": [],
   "source": [
    "def chi2(year):\n",
    "    pvalues = []\n",
    "    for i, row in meanMeds.iterrows():\n",
    "        # get dicts from the string they are stored as\n",
    "        dict1 = ast.literal_eval(row[f'race{year-1}'])\n",
    "        dict2 = ast.literal_eval(row[f'race{year}'])\n",
    "\n",
    "        # get a set of all keys\n",
    "        keys = set(dict1.keys()).union(dict2.keys())\n",
    "\n",
    "        dict1F = {key: dict1.get(key, 0) for key in keys}\n",
    "        dict2F = {key: dict2.get(key, 0) for key in keys}\n",
    "\n",
    "\n",
    "        table = [[dict1F[k], dict2F[k]] for k in keys]\n",
    "\n",
    "        stat, p, dof, expected = stats.chi2_contingency(table)\n",
    "        pvalues.append(p)\n",
    "    \n",
    "    return pvalues\n",
    "\n",
    "for i in range(2019,2024):\n",
    "    meanMeds[f'chi{i}'] = chi2(i)"
   ]
  },
  {
   "cell_type": "markdown",
   "metadata": {},
   "source": [
    "# Plots"
   ]
  },
  {
   "cell_type": "code",
   "execution_count": 50,
   "metadata": {},
   "outputs": [],
   "source": [
    "# this cell is a function that I used for graphing all of the maps. \n",
    "# I find it neater to use one line with all of the fields I need than several repetetive calls.\n",
    "\n",
    "from urllib.request import urlopen\n",
    "import json\n",
    "with urlopen('https://raw.githubusercontent.com/plotly/datasets/refs/heads/master/geojson-counties-fips.json') as response:\n",
    "    counties = json.load(response)\n",
    "\n",
    "import plotly.express as px\n",
    "\n",
    "def choro(data, var, label):\n",
    "    fig = px.choropleth(data, geojson=counties, locations=data.index, color=var,\n",
    "                            color_continuous_scale=\"Viridis\", featureidkey=\"id\",\n",
    "                                projection=\"mercator\",\n",
    "                            labels={var:label}\n",
    "                            )\n",
    "    fig.update_layout(margin={\"r\":0,\"t\":0,\"l\":0,\"b\":0})\n",
    "\n",
    "    fig.show()"
   ]
  },
  {
   "cell_type": "code",
   "execution_count": null,
   "metadata": {},
   "outputs": [],
   "source": [
    "income['test'] = income[(2019, 'Median Household Income')]\n",
    "choro(data=income, var='test', label='Median Household Income 2019')"
   ]
  },
  {
   "cell_type": "code",
   "execution_count": 52,
   "metadata": {},
   "outputs": [],
   "source": [
    "# Calculate the value to income ratio\n",
    "income['med2018'] = meanMeds['median2018']\n",
    "income['med2019'] = meanMeds['median2019']\n",
    "income['percent2018'] = income['med2018']/income[(2018, 'Median Household Income')]\n",
    "income['percent2019'] = income['med2018']/income[(2019, 'Median Household Income')]"
   ]
  },
  {
   "cell_type": "code",
   "execution_count": null,
   "metadata": {},
   "outputs": [],
   "source": [
    "choro(data=income, var='percent2018', label='Value to Income Ratio 2018')\n",
    "choro(data=income, var='percent2019', label='Value to Income Ratio 2019')"
   ]
  },
  {
   "cell_type": "code",
   "execution_count": null,
   "metadata": {},
   "outputs": [],
   "source": [
    "# Graph the confidence of change in lending demographic\n",
    "# Note that low value means high confidence of change\n",
    "for i in range(2019, 2024):\n",
    "    choro(data=meanMeds, var=f'chi{i}', label=f'Change in lending demographic {i}')"
   ]
  }
 ],
 "metadata": {
  "kernelspec": {
   "display_name": ".venv",
   "language": "python",
   "name": "python3"
  },
  "language_info": {
   "codemirror_mode": {
    "name": "ipython",
    "version": 3
   },
   "file_extension": ".py",
   "mimetype": "text/x-python",
   "name": "python",
   "nbconvert_exporter": "python",
   "pygments_lexer": "ipython3",
   "version": "3.13.0"
  }
 },
 "nbformat": 4,
 "nbformat_minor": 2
}
