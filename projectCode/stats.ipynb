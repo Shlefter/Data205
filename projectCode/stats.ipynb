{
 "cells": [
  {
   "cell_type": "code",
   "execution_count": null,
   "metadata": {},
   "outputs": [],
   "source": [
    "import pandas as pd\n",
    "import numpy as np\n",
    "from scipy import stats\n",
    "import scipy\n",
    "import json\n",
    "import ast\n",
    "import matplotlib.pyplot as plt\n",
    "import seaborn as sns"
   ]
  },
  {
   "cell_type": "code",
   "execution_count": null,
   "metadata": {},
   "outputs": [],
   "source": [
    "meanMeds = pd.read_csv('meanMedsFiltered.csv')"
   ]
  },
  {
   "cell_type": "code",
   "execution_count": null,
   "metadata": {},
   "outputs": [],
   "source": [
    "# Z-test for statiscical significance of median increase\n",
    "for year in range(2019, 2024):\n",
    "    meanMeds[f'z-MedIncrease{year}'] = stats.zscore(meanMeds[f'medIncrease{year}'])\n",
    "\n",
    "    # Find p-value from z-score, multiplied by 2 for 2 tailed test\n",
    "    meanMeds[f'p-MedIncrease{year}'] = stats.norm.sf(np.abs(meanMeds[f'z-MedIncrease{year}']))*2\n",
    "\n",
    "\n"
   ]
  },
  {
   "cell_type": "code",
   "execution_count": null,
   "metadata": {},
   "outputs": [],
   "source": [
    "def chi2(year):\n",
    "    pvalues = []\n",
    "    for i, row in meanMeds.iterrows():\n",
    "        # get dicts from the string they are stored as\n",
    "        dict1 = ast.literal_eval(row[f'race{year-1}'])\n",
    "        dict2 = ast.literal_eval(row[f'race{year}'])\n",
    "\n",
    "        # get a set of all keys\n",
    "        keys = set(dict1.keys()).union(dict2.keys())\n",
    "\n",
    "        dict1F = {key: dict1.get(key, 0) for key in keys}\n",
    "        dict2F = {key: dict2.get(key, 0) for key in keys}\n",
    "\n",
    "\n",
    "        table = [[dict1F[k], dict2F[k]] for k in keys]\n",
    "\n",
    "        stat, p, dof, expected = stats.chi2_contingency(table)\n",
    "        pvalues.append(p)\n",
    "    \n",
    "    return pvalues\n",
    "\n",
    "for i in range(2019,2024):\n",
    "    meanMeds[f'chi{i}'] = chi2(i)"
   ]
  },
  {
   "cell_type": "code",
   "execution_count": null,
   "metadata": {},
   "outputs": [],
   "source": [
    "print(meanMeds['medIncrease2023'].describe())"
   ]
  },
  {
   "cell_type": "code",
   "execution_count": null,
   "metadata": {},
   "outputs": [],
   "source": [
    "for i in range(2019, 2024):\n",
    "    sns.regplot(x=meanMeds[f'chi{i}'], y=meanMeds[f'p-MedIncrease{i}'], line_kws={'color': 'red'})\n",
    "    plt.show()"
   ]
  },
  {
   "cell_type": "code",
   "execution_count": null,
   "metadata": {},
   "outputs": [],
   "source": [
    "for i in range(2019, 2024):\n",
    "    sns.regplot(x=meanMeds[f'chi{i}'], y=meanMeds[f'medIncrease{i}'], fit_reg=True, line_kws={'color': 'red'})\n",
    "    plt.show()"
   ]
  },
  {
   "cell_type": "code",
   "execution_count": null,
   "metadata": {},
   "outputs": [],
   "source": [
    "czconnect = pd.read_csv('/Users/shleiferj/downloads/Citizen_Connect_-_County_data__live__20241105.csv')\n",
    "# Filter for only commuting and demographic data\n",
    "commuters = czconnect[czconnect['Category'] == 'Commuting']\n",
    "demographics = czconnect[czconnect['Category'] == 'Demographics']\n",
    "del czconnect\n",
    "\n",
    "resPermits = pd.read_csv('/Users/shleiferj/downloads/Residential_Construction_Permits_by_County_915231567991157423.csv')\n",
    "\n",
    "# years are separated by columns, so filter for only applicable years\n",
    "dataRange = ['GEOID']\n",
    "for year in range(2018, 2023):\n",
    "    dataRange.append(f'ALL_PERMITS_{year}')\n",
    "    dataRange.append(f'SINGLE_FAMILY_PERMITS_{year}')\n",
    "    dataRange.append(f'ALL_MULTIFAMILY_PERMITS_{year}')\n",
    "    dataRange.append(f'MULTIFAMILY_PERMITS_2_UNITS_{year}')\n",
    "    dataRange.append(f'MULTIFAMILY_PERMITS_3_4_UNITS_{year}')\n",
    "    dataRange.append(f'MULTIFAMILY_PERMITS_5_OR_MORE_UNITS_{year}')\n",
    "# These two are labeled slightly differently, no idea why\n",
    "dataRange[-2], dataRange[-1] = ['MULTIFAMILY_PERMITS_3_4_UNIT_2022', 'MULTIFAMILY_PERMITS_5_OR_MORE_2022']\n",
    "resPermits = resPermits[dataRange]\n",
    "resPermits.index = resPermits['GEOID']\n"
   ]
  },
  {
   "cell_type": "code",
   "execution_count": null,
   "metadata": {},
   "outputs": [],
   "source": [
    "temp = resPermits.copy()\n",
    "for i in range(2019, 2023):\n",
    "    temp[f'medincrease{i}'] = meanMeds[f'medIncrease{i}']\n",
    "    sns.regplot(x=temp[f'SINGLE_FAMILY_PERMITS_{i}'], y=temp[f'medincrease{i}'])\n",
    "    plt.show()\n",
    "\n",
    "\n",
    "# FEMA, remove disaster areas (disaster decleration)"
   ]
  },
  {
   "cell_type": "code",
   "execution_count": null,
   "metadata": {},
   "outputs": [],
   "source": [
    "df.pivot(index='patient', columns='obs', values='score')\n",
    "\n",
    "commuters.pivot(index='GEOID', columns=['year', ])"
   ]
  }
 ],
 "metadata": {
  "kernelspec": {
   "display_name": ".venv",
   "language": "python",
   "name": "python3"
  },
  "language_info": {
   "codemirror_mode": {
    "name": "ipython",
    "version": 3
   },
   "file_extension": ".py",
   "mimetype": "text/x-python",
   "name": "python",
   "nbconvert_exporter": "python",
   "pygments_lexer": "ipython3",
   "version": "3.12.6"
  }
 },
 "nbformat": 4,
 "nbformat_minor": 2
}
