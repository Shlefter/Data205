{
 "cells": [
  {
   "cell_type": "code",
   "execution_count": null,
   "metadata": {},
   "outputs": [],
   "source": [
    "import pandas as pd\n",
    "import numpy as np\n",
    "from scipy import stats\n",
    "import scipy\n",
    "import json\n",
    "import ast"
   ]
  },
  {
   "cell_type": "code",
   "execution_count": null,
   "metadata": {},
   "outputs": [],
   "source": [
    "meanMeds = pd.read_csv('meanMedsFiltered.csv')"
   ]
  },
  {
   "cell_type": "code",
   "execution_count": null,
   "metadata": {},
   "outputs": [],
   "source": [
    "# Z-test for statiscical significance of median increase\n",
    "for year in range(2019, 2024):\n",
    "    meanMeds[f'z-MedIncrease{year}'] = stats.zscore(meanMeds[f'medIncrease{year}'])\n",
    "\n",
    "    # Find p-value from z-score, multiplied by 2 for 2 tailed test\n",
    "    meanMeds[f'p-MedIncrease{year}'] = stats.norm.sf(np.abs(meanMeds[f'z-MedIncrease{year}']))*2\n",
    "\n",
    "\n"
   ]
  },
  {
   "cell_type": "code",
   "execution_count": null,
   "metadata": {},
   "outputs": [],
   "source": [
    "def chi2(year):\n",
    "    pvalues = []\n",
    "    for i, row in meanMeds.iterrows():\n",
    "        # get dicts from the string they are stored as\n",
    "        dict1 = ast.literal_eval(row[f'race{year-1}'])\n",
    "        dict2 = ast.literal_eval(row[f'race{year}'])\n",
    "\n",
    "        # get a set of all keys\n",
    "        keys = set(dict1.keys()).union(dict2.keys())\n",
    "\n",
    "        dict1F = {key: dict1.get(key, 0) for key in keys}\n",
    "        dict2F = {key: dict2.get(key, 0) for key in keys}\n",
    "\n",
    "\n",
    "        table = [[dict1F[k], dict2F[k]] for k in keys]\n",
    "\n",
    "        stat, p, dof, expected = stats.chi2_contingency(table)\n",
    "        pvalues.append(p)\n",
    "    \n",
    "    return pvalues\n",
    "\n",
    "print(chi2(2019))"
   ]
  }
 ],
 "metadata": {
  "kernelspec": {
   "display_name": ".venv",
   "language": "python",
   "name": "python3"
  },
  "language_info": {
   "codemirror_mode": {
    "name": "ipython",
    "version": 3
   },
   "file_extension": ".py",
   "mimetype": "text/x-python",
   "name": "python",
   "nbconvert_exporter": "python",
   "pygments_lexer": "ipython3",
   "version": "3.12.6"
  }
 },
 "nbformat": 4,
 "nbformat_minor": 2
}
